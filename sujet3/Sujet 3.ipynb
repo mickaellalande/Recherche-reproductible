{
 "cells": [
  {
   "cell_type": "markdown",
   "metadata": {},
   "source": [
    "# Sujet 3 : L'épidémie de choléra à Londres en 1854\n",
    "\n",
    "https://www.fun-mooc.fr/courses/course-v1:inria+41016+session02/courseware/5b932aa591d245d48d8943385cb3120a/57c96f2c7f7b42018eaac3e6b34546f4/4?activate_block_id=block-v1%3Ainria%2B41016%2Bsession02%2Btype%40vertical%2Bblock%4044b5ae6135284dccba16386681ed51d4\n",
    "\n",
    "Use the spec-file.txt to set same environment if troubles."
   ]
  },
  {
   "cell_type": "code",
   "execution_count": null,
   "metadata": {},
   "outputs": [],
   "source": []
  }
 ],
 "metadata": {
  "kernelspec": {
   "display_name": "Python 3",
   "language": "python",
   "name": "python3"
  },
  "language_info": {
   "codemirror_mode": {
    "name": "ipython",
    "version": 3
   },
   "file_extension": ".py",
   "mimetype": "text/x-python",
   "name": "python",
   "nbconvert_exporter": "python",
   "pygments_lexer": "ipython3",
   "version": "3.7.5"
  }
 },
 "nbformat": 4,
 "nbformat_minor": 2
}
